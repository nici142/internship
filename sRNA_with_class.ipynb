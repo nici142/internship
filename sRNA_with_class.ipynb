{
 "cells": [
  {
   "cell_type": "code",
   "execution_count": 1,
   "metadata": {},
   "outputs": [],
   "source": [
    "import pandas as pd\n",
    "import json\n",
    "from SPARQLWrapper import SPARQLWrapper, JSON\n",
    "from pyvis.network import Network"
   ]
  },
  {
   "cell_type": "code",
   "execution_count": 22,
   "metadata": {},
   "outputs": [],
   "source": [
    "class sparqltest():\n",
    "    \n",
    "    def __init__(self, query):\n",
    "        self.query = query\n",
    "        \n",
    "    def get_data(self, query):\n",
    "        sparql = SPARQLWrapper('https://query.wikidata.org/sparql')\n",
    "        sparql.setQuery(query)\n",
    "        sparql.setReturnFormat(JSON)\n",
    "        data = sparql.query().convert()\n",
    "        result = pd.io.json.json_normalize(data['results']['bindings'])\n",
    "        return result\n",
    "\n",
    "    def plot_graph(self, query):\n",
    "        net = Network(notebook=True)\n",
    "    \n",
    "        srna = sparql_data['srnaLabel.value']\n",
    "        target = sparql_data['targetLabel.value']\n",
    "        source = sparql_data['srna.value']\n",
    "    \n",
    "        edge_data = zip(srna, target, source)\n",
    "    \n",
    "        for e in edge_data:\n",
    "            srna = e[0]\n",
    "            target = e[1]\n",
    "            src = e[2]\n",
    "        \n",
    "            net.add_node(srna,title = srna)\n",
    "            net.add_node(target,title = target)\n",
    "            net.add_edge(srna,target, title = src)\n",
    "        \n",
    "        show_result = net.show('test.html')\n",
    "        return show_result"
   ]
  },
  {
   "cell_type": "code",
   "execution_count": 20,
   "metadata": {},
   "outputs": [],
   "source": [
    "query = \"\"\"\n",
    "    SELECT DISTINCT ?srna ?srnaLabel ?target ?targetLabel\n",
    "WHERE\n",
    "{\n",
    " ?srna wdt:P31 wd:Q11053.\n",
    " ?srna wdt:P31 wd:Q427087.\n",
    " ?srna wdt:P128 ?target.\n",
    " \n",
    " SERVICE wikibase:label { bd:serviceParam wikibase:language \"[AUTO_LANGUAGE],en\". }\n",
    "}\"\"\""
   ]
  },
  {
   "cell_type": "code",
   "execution_count": 26,
   "metadata": {},
   "outputs": [],
   "source": [
    "data = sparqltest(query)"
   ]
  },
  {
   "cell_type": "code",
   "execution_count": 30,
   "metadata": {},
   "outputs": [],
   "source": [
    "sparql_data = data.get_data(query)"
   ]
  },
  {
   "cell_type": "code",
   "execution_count": 31,
   "metadata": {},
   "outputs": [
    {
     "data": {
      "text/html": [
       "\n",
       "        <iframe\n",
       "            width=\"500px\"\n",
       "            height=\"500px\"\n",
       "            src=\"test.html\"\n",
       "            frameborder=\"0\"\n",
       "            allowfullscreen\n",
       "        ></iframe>\n",
       "        "
      ],
      "text/plain": [
       "<IPython.lib.display.IFrame at 0x7f9240b02748>"
      ]
     },
     "execution_count": 31,
     "metadata": {},
     "output_type": "execute_result"
    }
   ],
   "source": [
    "data.plot_graph(sparql_data)"
   ]
  },
  {
   "cell_type": "code",
   "execution_count": null,
   "metadata": {},
   "outputs": [],
   "source": []
  }
 ],
 "metadata": {
  "kernelspec": {
   "display_name": "Python 3",
   "language": "python",
   "name": "python3"
  },
  "language_info": {
   "codemirror_mode": {
    "name": "ipython",
    "version": 3
   },
   "file_extension": ".py",
   "mimetype": "text/x-python",
   "name": "python",
   "nbconvert_exporter": "python",
   "pygments_lexer": "ipython3",
   "version": "3.7.3"
  }
 },
 "nbformat": 4,
 "nbformat_minor": 2
}
