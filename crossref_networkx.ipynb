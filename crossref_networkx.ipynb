{
 "cells": [
  {
   "cell_type": "markdown",
   "metadata": {},
   "source": [
    "# visualize from crossref dois'\n",
    "### first idea"
   ]
  },
  {
   "cell_type": "code",
   "execution_count": 1,
   "metadata": {},
   "outputs": [],
   "source": [
    "import urllib.request # defines functions and classes which help in opening URLs\n",
    "import json\n",
    "\n",
    "base_url = \"https://api.crossref.org/works/\" # api- programmschnittstelle\n",
    "\n",
    "doi = \"10.1371/journal.pcbi.1004668\" # doi- Digital Object Identifier"
   ]
  },
  {
   "cell_type": "code",
   "execution_count": 2,
   "metadata": {},
   "outputs": [],
   "source": [
    "doi_json_data = urllib.request.urlopen(base_url + doi) # string + string\n",
    "# opens url"
   ]
  },
  {
   "cell_type": "code",
   "execution_count": 3,
   "metadata": {},
   "outputs": [],
   "source": [
    "doi_json_data_content = doi_json_data.read()\n",
    "# reads json file"
   ]
  },
  {
   "cell_type": "code",
   "execution_count": 4,
   "metadata": {},
   "outputs": [],
   "source": [
    "doi_data = json.loads(doi_json_data_content)\n",
    "# wandelt es in ein python object "
   ]
  },
  {
   "cell_type": "code",
   "execution_count": 5,
   "metadata": {},
   "outputs": [
    {
     "data": {
      "text/plain": [
       "dict_keys(['status', 'message-type', 'message-version', 'message'])"
      ]
     },
     "execution_count": 5,
     "metadata": {},
     "output_type": "execute_result"
    }
   ],
   "source": [
    "doi_data.keys()"
   ]
  },
  {
   "cell_type": "code",
   "execution_count": 6,
   "metadata": {},
   "outputs": [
    {
     "name": "stdout",
     "output_type": "stream",
     "text": [
      "- 10.1186/1751-0473-8-7\n",
      "- 10.1371/journal.pbio.1001745\n",
      "- 10.1038/nature11247\n",
      "- 10.1371/journal.pcbi.1003326\n",
      "- 10.1371/journal.pcbi.1000424\n",
      "- 10.1371/journal.pcbi.1002598\n"
     ]
    }
   ],
   "source": [
    "print(\"-\",doi_data[\"message\"][\"reference\"][0][\"DOI\"])\n",
    "print(\"-\",doi_data[\"message\"][\"reference\"][1][\"DOI\"])\n",
    "print(\"-\",doi_data[\"message\"][\"reference\"][2][\"DOI\"])\n",
    "print(\"-\",doi_data[\"message\"][\"reference\"][3][\"DOI\"])\n",
    "print(\"-\",doi_data[\"message\"][\"reference\"][4][\"DOI\"])\n",
    "print(\"-\",doi_data[\"message\"][\"reference\"][5][\"DOI\"])"
   ]
  },
  {
   "cell_type": "code",
   "execution_count": 7,
   "metadata": {},
   "outputs": [],
   "source": [
    "import networkx as nx # reation, manipulation, and study of the structure, dynamics, and functions of complex networks\n",
    "\n",
    "\n",
    "import matplotlib.pyplot as plt # Python 2D plotting library which produces publication quality figures \n",
    "# in a variety of hardcopy formats and interactive environments across platforms"
   ]
  },
  {
   "cell_type": "code",
   "execution_count": 8,
   "metadata": {},
   "outputs": [],
   "source": [
    "G=nx.DiGraph() # empty graph"
   ]
  },
  {
   "cell_type": "code",
   "execution_count": 9,
   "metadata": {},
   "outputs": [],
   "source": [
    "# add nodes- Knoten\n",
    "G.add_node(\"10.1371/journal.pcbi.1004668\")\n",
    "G.add_node(\"10.1186/1751-0473-8-7\")\n",
    "G.add_node(\"10.1371/journal.pbio.1001745\")\n",
    "G.add_node(\"10.1038/nature11247\")\n",
    "G.add_node(\"10.1371/journal.pcbi.1003326\")\n",
    "G.add_node(\"10.1371/journal.pcbi.1000424\")\n",
    "G.add_node(\"10.1371/journal.pcbi.1002598\")"
   ]
  },
  {
   "cell_type": "code",
   "execution_count": 10,
   "metadata": {},
   "outputs": [],
   "source": [
    "# add edges\n",
    "G.add_edge(\"10.1371/journal.pcbi.1004668\", \"10.1186/1751-0473-8-7\")\n",
    "G.add_edge(\"10.1371/journal.pcbi.1004668\", \"10.1371/journal.pbio.1001745\")\n",
    "G.add_edge(\"10.1371/journal.pcbi.1004668\", \"10.1038/nature11247\")\n",
    "G.add_edge(\"10.1371/journal.pcbi.1004668\", \"10.1371/journal.pcbi.1003326\")\n",
    "G.add_edge(\"10.1371/journal.pcbi.1004668\", \"10.1371/journal.pcbi.1000424\")\n",
    "G.add_edge(\"10.1371/journal.pcbi.1004668\", \"10.1371/journal.pcbi.1002598\")"
   ]
  },
  {
   "cell_type": "code",
   "execution_count": 11,
   "metadata": {},
   "outputs": [],
   "source": [
    "colors=['b','r','r','r','r','r','r'] # add colors\n",
    "\n",
    "# add labels\n",
    "labels={\"10.1371/journal.pcbi.1004668\":'article', \"10.1186/1751-0473-8-7\":'ref1',\"10.1371/journal.pbio.1001745\":'ref2',\n",
    "        \"10.1038/nature11247\":'ref3',\"10.1371/journal.pcbi.1003326\":'ref4',\"10.1371/journal.pcbi.1000424\":'ref5',\n",
    "        \"10.1371/journal.pcbi.1002598\":'ref6'}\n",
    "\n",
    "\n",
    "sizes=1500 #add size"
   ]
  },
  {
   "cell_type": "code",
   "execution_count": 12,
   "metadata": {},
   "outputs": [
    {
     "data": {
      "image/png": "[encoded data removed]",
      "text/plain": [
       "<Figure size 432x288 with 1 Axes>"
      ]
     },
     "metadata": {},
     "output_type": "display_data"
    }
   ],
   "source": [
    "nx.draw(G,labels=labels,node_size=sizes,node_color=colors)\n",
    "plt.show()"
   ]
  }
 ],
 "metadata": {
  "kernelspec": {
   "display_name": "Python 3",
   "language": "python",
   "name": "python3"
  },
  "language_info": {
   "codemirror_mode": {
    "name": "ipython",
    "version": 3
   },
   "file_extension": ".py",
   "mimetype": "text/x-python",
   "name": "python",
   "nbconvert_exporter": "python",
   "pygments_lexer": "ipython3",
   "version": "3.7.1"
  }
 },
 "nbformat": 4,
 "nbformat_minor": 2
}
