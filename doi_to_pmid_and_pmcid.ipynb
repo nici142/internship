{
 "cells": [
  {
   "cell_type": "code",
   "execution_count": 1,
   "metadata": {},
   "outputs": [],
   "source": [
    "import pandas as pd\n",
    "import urllib.request\n",
    "import json"
   ]
  },
  {
   "cell_type": "code",
   "execution_count": 2,
   "metadata": {},
   "outputs": [],
   "source": [
    "base_url = \"https://www.ncbi.nlm.nih.gov/pmc/utils/idconv/v1.0\"\n",
    "result_format = \"json\""
   ]
  },
  {
   "cell_type": "code",
   "execution_count": 3,
   "metadata": {},
   "outputs": [
    {
     "name": "stderr",
     "output_type": "stream",
     "text": [
      "C:\\Program Files\\Anaconda3\\lib\\site-packages\\ipykernel_launcher.py:1: ParserWarning: Falling back to the 'python' engine because the 'c' engine does not support regex separators (separators > 1 char and different from '\\s+' are interpreted as regex); you can avoid this warning by specifying engine='python'.\n",
      "  \"\"\"Entry point for launching an IPython kernel.\n"
     ]
    }
   ],
   "source": [
    "df = pd.read_csv(\"https://raw.githubusercontent.com/foerstner-lab/Publication_list/master/Publications.tsv\", sep=\"\\s\")"
   ]
  },
  {
   "cell_type": "code",
   "execution_count": 4,
   "metadata": {},
   "outputs": [],
   "source": [
    "def main():\n",
    "    df[\"PMID\"] = df.DOI.apply(doi_to_pmid)\n",
    "    df[\"PMCID\"] = df.DOI.apply(doi_to_pmid)\n",
    "    return df\n",
    "    \n",
    "def doi_to_pmid(doi):\n",
    "    full_url = f\"{base_url}?ids={doi}&format={result_format}\"\n",
    "    request_data_of_doi = urllib.request.urlopen(full_url).read()\n",
    "    result_of_doi_as_dict = doi_data = json.loads(request_data_of_doi)\n",
    "    try:\n",
    "        for i in result_of_doi_as_dict[\"records\"]:\n",
    "            return i[\"pmid\"]\n",
    "    except:\n",
    "        pass\n",
    "\n",
    "def doi_to_pmcid(doi):\n",
    "    full_url = f\"{base_url}?ids={doi}&format={result_format}\"\n",
    "    request_data_of_doi = urllib.request.urlopen(full_url).read()\n",
    "    result_of_doi_as_dict = doi_data = json.loads(request_data_of_doi)\n",
    "    try:\n",
    "        for i in result_of_doi_as_dict[\"records\"]:\n",
    "            return i[\"pmcid\"]\n",
    "    except:\n",
    "        pass"
   ]
  },
  {
   "cell_type": "code",
   "execution_count": null,
   "metadata": {},
   "outputs": [],
   "source": [
    "main()"
   ]
  },
  {
   "cell_type": "code",
   "execution_count": null,
   "metadata": {},
   "outputs": [],
   "source": []
  }
 ],
 "metadata": {
  "kernelspec": {
   "display_name": "Python 3",
   "language": "python",
   "name": "python3"
  },
  "language_info": {
   "codemirror_mode": {
    "name": "ipython",
    "version": 3
   },
   "file_extension": ".py",
   "mimetype": "text/x-python",
   "name": "python",
   "nbconvert_exporter": "python",
   "pygments_lexer": "ipython3",
   "version": "3.6.5"
  }
 },
 "nbformat": 4,
 "nbformat_minor": 2
}
