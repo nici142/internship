{
 "cells": [
  {
   "cell_type": "code",
   "execution_count": 1,
   "metadata": {},
   "outputs": [],
   "source": [
    "import urllib.request\n",
    "import json\n",
    "\n",
    "base_url = \"https://api.crossref.org/works/\"\n",
    "\n",
    "#base_doi = \"10.1186/1751-0473-8-7\"\n",
    "base_doi = \"10.1371/journal.pcbi.1004668\""
   ]
  },
  {
   "cell_type": "code",
   "execution_count": 2,
   "metadata": {},
   "outputs": [],
   "source": [
    "doi_json_data = urllib.request.urlopen(base_url + base_doi)"
   ]
  },
  {
   "cell_type": "code",
   "execution_count": 3,
   "metadata": {},
   "outputs": [],
   "source": [
    "doi_json_data_content = doi_json_data.read()"
   ]
  },
  {
   "cell_type": "code",
   "execution_count": 4,
   "metadata": {},
   "outputs": [],
   "source": [
    "doi_data = json.loads(doi_json_data_content)"
   ]
  },
  {
   "cell_type": "code",
   "execution_count": 5,
   "metadata": {},
   "outputs": [
    {
     "data": {
      "text/plain": [
       "dict_keys(['status', 'message-type', 'message-version', 'message'])"
      ]
     },
     "execution_count": 5,
     "metadata": {},
     "output_type": "execute_result"
    }
   ],
   "source": [
    "doi_data.keys()"
   ]
  },
  {
   "cell_type": "code",
   "execution_count": 6,
   "metadata": {},
   "outputs": [
    {
     "data": {
      "text/plain": [
       "dict_keys(['indexed', 'reference-count', 'publisher', 'issue', 'license', 'content-domain', 'short-container-title', 'DOI', 'type', 'created', 'page', 'update-policy', 'source', 'is-referenced-by-count', 'title', 'prefix', 'volume', 'author', 'member', 'published-online', 'reference', 'container-title', 'original-title', 'language', 'link', 'deposited', 'score', 'subtitle', 'editor', 'short-title', 'issued', 'references-count', 'journal-issue', 'URL', 'relation', 'ISSN', 'issn-type'])"
      ]
     },
     "execution_count": 6,
     "metadata": {},
     "output_type": "execute_result"
    }
   ],
   "source": [
    "doi_data[\"message\"].keys()"
   ]
  },
  {
   "cell_type": "code",
   "execution_count": 7,
   "metadata": {},
   "outputs": [
    {
     "name": "stdout",
     "output_type": "stream",
     "text": [
      "['10.1186/1751-0473-8-7', '10.1371/journal.pbio.1001745', '10.1038/nature11247', '10.1371/journal.pcbi.1003326', '10.1371/journal.pcbi.1000424', '10.1371/journal.pcbi.1002598']\n"
     ]
    }
   ],
   "source": [
    "nodes_lst = []\n",
    "for reference in doi_data[\"message\"][\"reference\"]:\n",
    "    nodes_lst.append(reference[\"DOI\"])\n",
    "print(nodes_lst)"
   ]
  },
  {
   "cell_type": "code",
   "execution_count": 8,
   "metadata": {},
   "outputs": [],
   "source": [
    "import networkx as nx\n",
    "import matplotlib.pyplot as plt"
   ]
  },
  {
   "cell_type": "code",
   "execution_count": 9,
   "metadata": {},
   "outputs": [],
   "source": [
    "G = nx.Graph()"
   ]
  },
  {
   "cell_type": "code",
   "execution_count": 10,
   "metadata": {},
   "outputs": [
    {
     "name": "stdout",
     "output_type": "stream",
     "text": [
      "10.1186/1751-0473-8-7\n",
      "10.1371/journal.pbio.1001745\n",
      "10.1038/nature11247\n",
      "10.1371/journal.pcbi.1003326\n",
      "10.1371/journal.pcbi.1000424\n",
      "10.1371/journal.pcbi.1002598\n"
     ]
    }
   ],
   "source": [
    "G.add_nodes_from(nodes_lst)\n",
    "for ref_doi in nodes_lst:\n",
    "    print(ref_doi)\n",
    "    G.add_edge(base_doi, ref_doi)"
   ]
  },
  {
   "cell_type": "code",
   "execution_count": 11,
   "metadata": {},
   "outputs": [
    {
     "data": {
      "image/png": "[encoded data removed]",
      "text/plain": [
       "<Figure size 432x288 with 1 Axes>"
      ]
     },
     "metadata": {},
     "output_type": "display_data"
    }
   ],
   "source": [
    "nx.draw(G)\n",
    "plt.show()"
   ]
  },
  {
   "cell_type": "code",
   "execution_count": 12,
   "metadata": {},
   "outputs": [],
   "source": [
    "def get_dois(ref_dois):\n",
    "    base_url = \"https://api.crossref.org/works/\"\n",
    "    doi_json_data = urllib.request.urlopen(base_url + ref_dois)\n",
    "    doi_json_data_content = doi_json_data.read()\n",
    "    doi_data = json.loads(doi_json_data_content)\n",
    "    ref_dois_lst = []\n",
    "    for reference in doi_data[\"message\"][\"reference\"]:\n",
    "        try:\n",
    "            ref_dois_lst.append(reference[\"DOI\"])\n",
    "        except KeyError:\n",
    "            print(\"NO DOI\")\n",
    "    return ref_dois_lst"
   ]
  },
  {
   "cell_type": "code",
   "execution_count": 13,
   "metadata": {},
   "outputs": [
    {
     "name": "stdout",
     "output_type": "stream",
     "text": [
      "NO DOI\n",
      "NO DOI\n",
      "NO DOI\n",
      "NO DOI\n",
      "NO DOI\n",
      "NO DOI\n",
      "NO DOI\n",
      "NO DOI\n"
     ]
    },
    {
     "data": {
      "text/plain": [
       "['10.1525/bio.2012.62.5.3',\n",
       " '10.1126/science.1213847',\n",
       " '10.1038/483531a',\n",
       " '10.1109/5992.881708',\n",
       " '10.1038/nature10836',\n",
       " '10.1038/478006a',\n",
       " '10.1086/650340',\n",
       " '10.1111/j.1365-2486.2012.02693.x',\n",
       " '10.1038/492348a',\n",
       " '10.1126/science.1224988',\n",
       " '10.1371/journal.pbio.1001563',\n",
       " '10.1371/journal.pone.0024914',\n",
       " '10.1093/bioinformatics/btg465',\n",
       " '10.1371/journal.pcbi.1002802',\n",
       " '10.1371/journal.pcbi.1002598',\n",
       " '10.1371/journal.pone.0000308',\n",
       " '10.1371/journal.pone.0018657',\n",
       " '10.1371/journal.pone.0024357',\n",
       " '10.1371/journal.pone.0044913']"
      ]
     },
     "execution_count": 13,
     "metadata": {},
     "output_type": "execute_result"
    }
   ],
   "source": [
    "get_dois(\"10.1186/1751-0473-8-7\")"
   ]
  },
  {
   "cell_type": "code",
   "execution_count": 14,
   "metadata": {},
   "outputs": [],
   "source": [
    "def expand_graph(doi):\n",
    "    for refs_dois in get_dois(doi):\n",
    "            doi_for_ref = doi\n",
    "            G.add_edge(doi_for_ref, refs_dois)\n",
    "            try:\n",
    "                for more_dois in get_dois(refs_dois):\n",
    "                    more_ref_doi = refs_dois\n",
    "                    G.add_edge(refs_dois, more_dois)\n",
    "            except KeyError:\n",
    "                print(\"NO DOI\")                "
   ]
  },
  {
   "cell_type": "code",
   "execution_count": 15,
   "metadata": {},
   "outputs": [
    {
     "name": "stdout",
     "output_type": "stream",
     "text": [
      "NO DOI\n",
      "NO DOI\n",
      "NO DOI\n",
      "NO DOI\n",
      "NO DOI\n",
      "NO DOI\n",
      "NO DOI\n",
      "NO DOI\n",
      "NO DOI\n",
      "NO DOI\n",
      "NO DOI\n",
      "NO DOI\n",
      "NO DOI\n",
      "NO DOI\n",
      "NO DOI\n",
      "NO DOI\n",
      "NO DOI\n",
      "NO DOI\n",
      "NO DOI\n",
      "NO DOI\n",
      "NO DOI\n",
      "NO DOI\n",
      "NO DOI\n",
      "NO DOI\n",
      "NO DOI\n",
      "NO DOI\n",
      "NO DOI\n",
      "NO DOI\n",
      "NO DOI\n",
      "NO DOI\n",
      "NO DOI\n",
      "NO DOI\n",
      "NO DOI\n",
      "NO DOI\n",
      "NO DOI\n",
      "NO DOI\n",
      "NO DOI\n",
      "NO DOI\n",
      "NO DOI\n",
      "NO DOI\n",
      "NO DOI\n",
      "NO DOI\n",
      "NO DOI\n",
      "NO DOI\n",
      "NO DOI\n",
      "NO DOI\n",
      "NO DOI\n",
      "NO DOI\n",
      "NO DOI\n",
      "NO DOI\n",
      "NO DOI\n",
      "NO DOI\n",
      "NO DOI\n",
      "NO DOI\n",
      "NO DOI\n",
      "NO DOI\n",
      "NO DOI\n",
      "NO DOI\n",
      "NO DOI\n",
      "NO DOI\n",
      "NO DOI\n",
      "NO DOI\n",
      "NO DOI\n",
      "NO DOI\n",
      "NO DOI\n",
      "NO DOI\n",
      "NO DOI\n",
      "NO DOI\n",
      "NO DOI\n",
      "NO DOI\n",
      "NO DOI\n",
      "NO DOI\n",
      "NO DOI\n",
      "NO DOI\n",
      "NO DOI\n",
      "NO DOI\n",
      "NO DOI\n",
      "NO DOI\n",
      "NO DOI\n",
      "NO DOI\n",
      "NO DOI\n",
      "NO DOI\n",
      "NO DOI\n",
      "NO DOI\n",
      "NO DOI\n",
      "NO DOI\n",
      "NO DOI\n",
      "NO DOI\n",
      "NO DOI\n",
      "NO DOI\n",
      "NO DOI\n",
      "NO DOI\n",
      "NO DOI\n",
      "NO DOI\n",
      "NO DOI\n",
      "NO DOI\n",
      "NO DOI\n",
      "NO DOI\n",
      "NO DOI\n",
      "NO DOI\n",
      "NO DOI\n",
      "NO DOI\n",
      "NO DOI\n",
      "NO DOI\n",
      "NO DOI\n",
      "NO DOI\n",
      "NO DOI\n"
     ]
    }
   ],
   "source": [
    "expand_graph(\"10.1186/1751-0473-8-7\")"
   ]
  },
  {
   "cell_type": "code",
   "execution_count": null,
   "metadata": {},
   "outputs": [],
   "source": []
  }
 ],
 "metadata": {
  "kernelspec": {
   "display_name": "Python 3",
   "language": "python",
   "name": "python3"
  },
  "language_info": {
   "codemirror_mode": {
    "name": "ipython",
    "version": 3
   },
   "file_extension": ".py",
   "mimetype": "text/x-python",
   "name": "python",
   "nbconvert_exporter": "python",
   "pygments_lexer": "ipython3",
   "version": "3.6.5"
  }
 },
 "nbformat": 4,
 "nbformat_minor": 2
}
