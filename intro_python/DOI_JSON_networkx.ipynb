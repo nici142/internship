{
 "cells": [
  {
   "cell_type": "code",
   "execution_count": 1,
   "metadata": {},
   "outputs": [],
   "source": [
    "import urllib.request\n",
    "import json\n",
    "\n",
    "base_url = \"https://api.crossref.org/works/\"\n",
    "\n",
    "doi = \"10.1371/journal.pcbi.1004668\""
   ]
  },
  {
   "cell_type": "code",
   "execution_count": 2,
   "metadata": {},
   "outputs": [],
   "source": [
    "doi_json_data = urllib.request.urlopen(base_url + doi)"
   ]
  },
  {
   "cell_type": "code",
   "execution_count": 3,
   "metadata": {},
   "outputs": [],
   "source": [
    "doi_json_data_content = doi_json_data.read()"
   ]
  },
  {
   "cell_type": "code",
   "execution_count": 4,
   "metadata": {},
   "outputs": [],
   "source": [
    "doi_data = json.loads(doi_json_data_content)"
   ]
  },
  {
   "cell_type": "code",
   "execution_count": 5,
   "metadata": {},
   "outputs": [
    {
     "data": {
      "text/plain": [
       "dict_keys(['status', 'message-type', 'message-version', 'message'])"
      ]
     },
     "execution_count": 5,
     "metadata": {},
     "output_type": "execute_result"
    }
   ],
   "source": [
    "doi_data.keys()"
   ]
  },
  {
   "cell_type": "code",
   "execution_count": 6,
   "metadata": {},
   "outputs": [
    {
     "name": "stdout",
     "output_type": "stream",
     "text": [
      "- 10.1186/1751-0473-8-7\n",
      "- 10.1371/journal.pbio.1001745\n",
      "- 10.1038/nature11247\n",
      "- 10.1371/journal.pcbi.1003326\n",
      "- 10.1371/journal.pcbi.1000424\n",
      "- 10.1371/journal.pcbi.1002598\n"
     ]
    }
   ],
   "source": [
    "dois = [\"10.1371/journal.pcbi.1004668\"]\n",
    "for doi in dois:\n",
    "    doi_json_data = urllib.request.urlopen(base_url + doi).read()\n",
    "    doi_data = json.loads(doi_json_data)\n",
    "    print(\"-\",doi_data[\"message\"][\"reference\"][0][\"DOI\"])\n",
    "    print(\"-\",doi_data[\"message\"][\"reference\"][1][\"DOI\"])\n",
    "    print(\"-\",doi_data[\"message\"][\"reference\"][2][\"DOI\"])\n",
    "    print(\"-\",doi_data[\"message\"][\"reference\"][3][\"DOI\"])\n",
    "    print(\"-\",doi_data[\"message\"][\"reference\"][4][\"DOI\"])\n",
    "    print(\"-\",doi_data[\"message\"][\"reference\"][5][\"DOI\"])"
   ]
  },
  {
   "cell_type": "code",
   "execution_count": 7,
   "metadata": {},
   "outputs": [
    {
     "name": "stdout",
     "output_type": "stream",
     "text": [
      "- 10.1186/1751-0473-8-7\n",
      "- 10.1371/journal.pbio.1001745\n",
      "- 10.1038/nature11247\n",
      "- 10.1371/journal.pcbi.1003326\n",
      "- 10.1371/journal.pcbi.1000424\n",
      "- 10.1371/journal.pcbi.1002598\n"
     ]
    }
   ],
   "source": [
    "print(\"-\",doi_data[\"message\"][\"reference\"][0][\"DOI\"])\n",
    "print(\"-\",doi_data[\"message\"][\"reference\"][1][\"DOI\"])\n",
    "print(\"-\",doi_data[\"message\"][\"reference\"][2][\"DOI\"])\n",
    "print(\"-\",doi_data[\"message\"][\"reference\"][3][\"DOI\"])\n",
    "print(\"-\",doi_data[\"message\"][\"reference\"][4][\"DOI\"])\n",
    "print(\"-\",doi_data[\"message\"][\"reference\"][5][\"DOI\"])"
   ]
  },
  {
   "cell_type": "code",
   "execution_count": 8,
   "metadata": {},
   "outputs": [],
   "source": [
    "import networkx as nx\n",
    "import matplotlib.pyplot as plt"
   ]
  },
  {
   "cell_type": "code",
   "execution_count": 88,
   "metadata": {},
   "outputs": [],
   "source": [
    "G=nx.DiGraph()"
   ]
  },
  {
   "cell_type": "code",
   "execution_count": 89,
   "metadata": {},
   "outputs": [],
   "source": [
    "G.add_node(\"10.1371/journal.pcbi.1004668\")\n",
    "G.add_node(\"10.1186/1751-0473-8-7\")\n",
    "G.add_node(\"10.1371/journal.pbio.1001745\")\n",
    "G.add_node(\"10.1038/nature11247\")\n",
    "G.add_node(\"10.1371/journal.pcbi.1003326\")\n",
    "G.add_node(\"10.1371/journal.pcbi.1000424\")\n",
    "G.add_node(\"10.1371/journal.pcbi.1002598\")"
   ]
  },
  {
   "cell_type": "code",
   "execution_count": 90,
   "metadata": {},
   "outputs": [],
   "source": [
    "G.add_edge(\"10.1371/journal.pcbi.1004668\", \"10.1186/1751-0473-8-7\")\n",
    "G.add_edge(\"10.1371/journal.pcbi.1004668\", \"10.1371/journal.pbio.1001745\")\n",
    "G.add_edge(\"10.1371/journal.pcbi.1004668\", \"10.1038/nature11247\")\n",
    "G.add_edge(\"10.1371/journal.pcbi.1004668\", \"10.1371/journal.pcbi.1003326\")\n",
    "G.add_edge(\"10.1371/journal.pcbi.1004668\", \"10.1371/journal.pcbi.1000424\")\n",
    "G.add_edge(\"10.1371/journal.pcbi.1004668\", \"10.1371/journal.pcbi.1002598\")"
   ]
  },
  {
   "cell_type": "code",
   "execution_count": 91,
   "metadata": {},
   "outputs": [],
   "source": [
    "colors=['b','r','r','r','r','r','r']\n",
    "labels={\"10.1371/journal.pcbi.1004668\":'article', \"10.1186/1751-0473-8-7\":'ref1',\"10.1371/journal.pbio.1001745\":'ref2',\n",
    "        \"10.1038/nature11247\":'ref3',\"10.1371/journal.pcbi.1003326\":'ref4',\"10.1371/journal.pcbi.1000424\":'ref5',\n",
    "        \"10.1371/journal.pcbi.1002598\":'ref6'}\n",
    "sizes=1500"
   ]
  },
  {
   "cell_type": "code",
   "execution_count": 92,
   "metadata": {},
   "outputs": [
    {
     "data": {
      "image/png": "[encoded data removed]",
      "text/plain": [
       "<Figure size 432x288 with 1 Axes>"
      ]
     },
     "metadata": {},
     "output_type": "display_data"
    }
   ],
   "source": [
    "nx.draw(G,labels=labels,node_size=sizes,node_color=colors)\n",
    "plt.show()"
   ]
  },
  {
   "cell_type": "code",
   "execution_count": null,
   "metadata": {},
   "outputs": [],
   "source": []
  }
 ],
 "metadata": {
  "kernelspec": {
   "display_name": "Python 3",
   "language": "python",
   "name": "python3"
  },
  "language_info": {
   "codemirror_mode": {
    "name": "ipython",
    "version": 3
   },
   "file_extension": ".py",
   "mimetype": "text/x-python",
   "name": "python",
   "nbconvert_exporter": "python",
   "pygments_lexer": "ipython3",
   "version": "3.7.1"
  }
 },
 "nbformat": 4,
 "nbformat_minor": 2
}
